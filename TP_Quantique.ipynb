{
 "cells": [
  {
   "attachments": {},
   "cell_type": "markdown",
   "metadata": {},
   "source": [
    "<font color=red>QLM</font> (Quantum Learning Machine) est une application Atos qui combine du Hardware (HPC) sur lequel une note Software est mise pour aborder l’informatique quantique au travers de la simulation. <br>\n",
    "<font color=red>myQLM</font> (que nous allons utiliser) est une partie Software qu’Atos a mis à disposition pour permettre à des écosystèmes d'utilisateurs de développer des algorithmes quantiques « de manière autonome »."
   ]
  },
  {
   "attachments": {},
   "cell_type": "markdown",
   "metadata": {},
   "source": [
    "<font color=red>myQLM</font>  propose : <br>\n",
    " * deux langages de programmation *AQSAM* et *pyAQASM*,<br>\n",
    " * un simulateur Open Source *PyLinalg*,<br>\n",
    " * des *QRoutine* (fonctions déjà implémentées),<br>\n",
    " * Possibilité de réaliser des circuits quantiques,<br>\n",
    " * Des outils d’interopérabilités Open Source."
   ]
  },
  {
   "cell_type": "code",
   "execution_count": null,
   "metadata": {},
   "outputs": [
    {
     "ename": "ImportError",
     "evalue": "dlopen(/Users/alimokh/opt/miniconda3/envs/quantum_env/lib/python3.9/site-packages/qat/__init__.so, 0x0002): Library not loaded: @rpath/lib/libpython3.9.dylib\n  Referenced from: <E8C3CBC8-276E-3534-8DFE-16C5457CA465> /Users/alimokh/opt/miniconda3/envs/quantum_env/lib/python3.9/site-packages/qat/__init__.so\n  Reason: tried: '/Library/Frameworks/Python.framework/Versions/3.9/lib/libpython3.9.dylib' (no such file), '/System/Volumes/Preboot/Cryptexes/OS/Library/Frameworks/Python.framework/Versions/3.9/lib/libpython3.9.dylib' (no such file), '/opt/homebrew/opt/python@3.9/Frameworks/Python.framework/Versions/3.9/lib/libpython3.9.dylib' (no such file), '/System/Volumes/Preboot/Cryptexes/OS/opt/homebrew/opt/python@3.9/Frameworks/Python.framework/Versions/3.9/lib/libpython3.9.dylib' (no such file), '/usr/local/opt/python@3.9/Frameworks/Python.framework/Versions/3.9/lib/libpython3.9.dylib' (no such file), '/System/Volumes/Preboot/Cryptexes/OS/usr/local/opt/python@3.9/Frameworks/Python.framework/Versions/3.9/lib/libpython3.9.dylib' (no such file), '/Library/Frameworks/Python.framework/Versions/3.9/lib/libpython3.9.dylib' (no such file), '/System/Volumes/Preboot/Cryptexes/OS/Library/Frameworks/Python.framework/Versions/3.9/lib/libpython3.9.dylib' (no such file), '/opt/homebrew/opt/python@3.9/Frameworks/Python.framework/Versions/3.9/lib/libpython3.9.dylib' (no such file), '/System/Volumes/Preboot/Cryptexes/OS/opt/homebrew/opt/python@3.9/Frameworks/Python.framework/Versions/3.9/lib/libpython3.9.dylib' (no such file), '/usr/local/opt/python@3.9/Frameworks/Python.framework/Versions/3.9/lib/libpython3.9.dylib' (no such file), '/System/Volumes/Preboot/Cryptexes/OS/usr/local/opt/python@3.9/Frameworks/Python.framework/Versions/3.9/lib/libpython3.9.dylib' (no such file), '/Users/alimokh/opt/miniconda3/envs/quantum_env/bin/../lib/lib/libpython3.9.dylib' (no such file), '/Users/alimokh/opt/miniconda3/envs/quantum_env/bin/../lib/lib/libpython3.9.dylib' (no such file), '/System/Volumes/Preboot/Cryptexes/OS@rpath/lib/libpython3.9.dylib' (no such file), '/Library/Frameworks/Python.framework/Versions/3.9/lib/libpython3.9.dylib' (no such file), '/System/Volumes/Preboot/Cryptexes/OS/Library/Frameworks/Python.framework/Versions/3.9/lib/libpython3.9.dylib' (no such file), '/opt/homebrew/opt/python@3.9/Frameworks/Python.framework/Versions/3.9/lib/libpython3.9.dylib' (no such file), '/System/Volumes/Preboot/Cryptexes/OS/opt/homebrew/opt/python@3.9/Frameworks/Python.framework/Versions/3.9/lib/libpython3.9.dylib' (no such file), '/usr/local/opt/python@3.9/Frameworks/Python.framework/Versions/3.9/lib/libpython3.9.dylib' (no such file), '/System/Volumes/Preboot/Cryptexes/OS/usr/local/opt/python@3.9/Frameworks/Python.framework/Versions/3.9/lib/libpython3.9.dylib' (no such file), '/Library/Frameworks/Python.framework/Versions/3.9/lib/libpython3.9.dylib' (no such file), '/System/Volumes/Preboot/Cryptexes/OS/Library/Frameworks/Python.framework/Versions/3.9/lib/libpython3.9.dylib' (no such file), '/opt/homebrew/opt/python@3.9/Frameworks/Python.framework/Versions/3.9/lib/libpython3.9.dylib' (no such file), '/System/Volumes/Preboot/Cryptexes/OS/opt/homebrew/opt/python@3.9/Frameworks/Python.framework/Versions/3.9/lib/libpython3.9.dylib' (no such file), '/usr/local/opt/python@3.9/Frameworks/Python.framework/Versions/3.9/lib/libpython3.9.dylib' (no such file), '/System/Volumes/Preboot/Cryptexes/OS/usr/local/opt/python@3.9/Frameworks/Python.framework/Versions/3.9/lib/libpython3.9.dylib' (no such file), '/Users/alimokh/opt/miniconda3/envs/quantum_env/bin/../lib/lib/libpython3.9.dylib' (no such file), '/Users/alimokh/opt/miniconda3/envs/quantum_env/bin/../lib/lib/libpython3.9.dylib' (no such file), '/usr/local/lib/libpython3.9.dylib' (no such file), '/usr/lib/libpython3.9.dylib' (no such file, not in dyld cache)",
     "output_type": "error",
     "traceback": [
      "\u001b[0;31m---------------------------------------------------------------------------\u001b[0m",
      "\u001b[0;31mImportError\u001b[0m                               Traceback (most recent call last)",
      "Cell \u001b[0;32mIn[1], line 1\u001b[0m\n\u001b[0;32m----> 1\u001b[0m \u001b[39mimport\u001b[39;00m \u001b[39mqat\u001b[39;00m\u001b[39m.\u001b[39;00m\u001b[39mlang\u001b[39;00m\u001b[39m.\u001b[39;00m\u001b[39mAQASM\u001b[39;00m \u001b[39mas\u001b[39;00m \u001b[39mqq\u001b[39;00m\n",
      "\u001b[0;31mImportError\u001b[0m: dlopen(/Users/alimokh/opt/miniconda3/envs/quantum_env/lib/python3.9/site-packages/qat/__init__.so, 0x0002): Library not loaded: @rpath/lib/libpython3.9.dylib\n  Referenced from: <E8C3CBC8-276E-3534-8DFE-16C5457CA465> /Users/alimokh/opt/miniconda3/envs/quantum_env/lib/python3.9/site-packages/qat/__init__.so\n  Reason: tried: '/Library/Frameworks/Python.framework/Versions/3.9/lib/libpython3.9.dylib' (no such file), '/System/Volumes/Preboot/Cryptexes/OS/Library/Frameworks/Python.framework/Versions/3.9/lib/libpython3.9.dylib' (no such file), '/opt/homebrew/opt/python@3.9/Frameworks/Python.framework/Versions/3.9/lib/libpython3.9.dylib' (no such file), '/System/Volumes/Preboot/Cryptexes/OS/opt/homebrew/opt/python@3.9/Frameworks/Python.framework/Versions/3.9/lib/libpython3.9.dylib' (no such file), '/usr/local/opt/python@3.9/Frameworks/Python.framework/Versions/3.9/lib/libpython3.9.dylib' (no such file), '/System/Volumes/Preboot/Cryptexes/OS/usr/local/opt/python@3.9/Frameworks/Python.framework/Versions/3.9/lib/libpython3.9.dylib' (no such file), '/Library/Frameworks/Python.framework/Versions/3.9/lib/libpython3.9.dylib' (no such file), '/System/Volumes/Preboot/Cryptexes/OS/Library/Frameworks/Python.framework/Versions/3.9/lib/libpython3.9.dylib' (no such file), '/opt/homebrew/opt/python@3.9/Frameworks/Python.framework/Versions/3.9/lib/libpython3.9.dylib' (no such file), '/System/Volumes/Preboot/Cryptexes/OS/opt/homebrew/opt/python@3.9/Frameworks/Python.framework/Versions/3.9/lib/libpython3.9.dylib' (no such file), '/usr/local/opt/python@3.9/Frameworks/Python.framework/Versions/3.9/lib/libpython3.9.dylib' (no such file), '/System/Volumes/Preboot/Cryptexes/OS/usr/local/opt/python@3.9/Frameworks/Python.framework/Versions/3.9/lib/libpython3.9.dylib' (no such file), '/Users/alimokh/opt/miniconda3/envs/quantum_env/bin/../lib/lib/libpython3.9.dylib' (no such file), '/Users/alimokh/opt/miniconda3/envs/quantum_env/bin/../lib/lib/libpython3.9.dylib' (no such file), '/System/Volumes/Preboot/Cryptexes/OS@rpath/lib/libpython3.9.dylib' (no such file), '/Library/Frameworks/Python.framework/Versions/3.9/lib/libpython3.9.dylib' (no such file), '/System/Volumes/Preboot/Cryptexes/OS/Library/Frameworks/Python.framework/Versions/3.9/lib/libpython3.9.dylib' (no such file), '/opt/homebrew/opt/python@3.9/Frameworks/Python.framework/Versions/3.9/lib/libpython3.9.dylib' (no such file), '/System/Volumes/Preboot/Cryptexes/OS/opt/homebrew/opt/python@3.9/Frameworks/Python.framework/Versions/3.9/lib/libpython3.9.dylib' (no such file), '/usr/local/opt/python@3.9/Frameworks/Python.framework/Versions/3.9/lib/libpython3.9.dylib' (no such file), '/System/Volumes/Preboot/Cryptexes/OS/usr/local/opt/python@3.9/Frameworks/Python.framework/Versions/3.9/lib/libpython3.9.dylib' (no such file), '/Library/Frameworks/Python.framework/Versions/3.9/lib/libpython3.9.dylib' (no such file), '/System/Volumes/Preboot/Cryptexes/OS/Library/Frameworks/Python.framework/Versions/3.9/lib/libpython3.9.dylib' (no such file), '/opt/homebrew/opt/python@3.9/Frameworks/Python.framework/Versions/3.9/lib/libpython3.9.dylib' (no such file), '/System/Volumes/Preboot/Cryptexes/OS/opt/homebrew/opt/python@3.9/Frameworks/Python.framework/Versions/3.9/lib/libpython3.9.dylib' (no such file), '/usr/local/opt/python@3.9/Frameworks/Python.framework/Versions/3.9/lib/libpython3.9.dylib' (no such file), '/System/Volumes/Preboot/Cryptexes/OS/usr/local/opt/python@3.9/Frameworks/Python.framework/Versions/3.9/lib/libpython3.9.dylib' (no such file), '/Users/alimokh/opt/miniconda3/envs/quantum_env/bin/../lib/lib/libpython3.9.dylib' (no such file), '/Users/alimokh/opt/miniconda3/envs/quantum_env/bin/../lib/lib/libpython3.9.dylib' (no such file), '/usr/local/lib/libpython3.9.dylib' (no such file), '/usr/lib/libpython3.9.dylib' (no such file, not in dyld cache)"
     ]
    }
   ],
   "source": [
    "import qat.lang.AQASM as qq"
   ]
  },
  {
   "cell_type": "code",
   "execution_count": 2,
   "metadata": {},
   "outputs": [
    {
     "name": "stdout",
     "output_type": "stream",
     "text": [
      "Requirement already satisfied: myQLM in /Users/alimokh/opt/miniconda3/envs/quantum_env/lib/python3.9/site-packages (1.7.3)\n",
      "Requirement already satisfied: qat-comm>=1.4.2 in /Users/alimokh/opt/miniconda3/envs/quantum_env/lib/python3.9/site-packages (from myQLM) (1.4.2)\n",
      "Requirement already satisfied: qat-variational>=1.4.0 in /Users/alimokh/opt/miniconda3/envs/quantum_env/lib/python3.9/site-packages (from myQLM) (1.4.0)\n",
      "Requirement already satisfied: qat-lang>=2.2.1 in /Users/alimokh/opt/miniconda3/envs/quantum_env/lib/python3.9/site-packages (from myQLM) (2.2.1)\n",
      "Requirement already satisfied: myqlm-fermion>=1.0.0 in /Users/alimokh/opt/miniconda3/envs/quantum_env/lib/python3.9/site-packages (from myQLM) (1.0.0)\n",
      "Requirement already satisfied: myqlm-simulators>=1.7.1 in /Users/alimokh/opt/miniconda3/envs/quantum_env/lib/python3.9/site-packages (from myQLM) (1.7.1)\n",
      "Requirement already satisfied: qat-devices>=0.2.0 in /Users/alimokh/opt/miniconda3/envs/quantum_env/lib/python3.9/site-packages (from myQLM) (0.2.0)\n",
      "Requirement already satisfied: qat-core>=1.6.4 in /Users/alimokh/opt/miniconda3/envs/quantum_env/lib/python3.9/site-packages (from myQLM) (1.6.4)\n",
      "Requirement already satisfied: myqlm-contrib>=1.7.1 in /Users/alimokh/opt/miniconda3/envs/quantum_env/lib/python3.9/site-packages (from myQLM) (1.7.1)\n",
      "Requirement already satisfied: myqlm-clinalg>=0.0.5 in /Users/alimokh/opt/miniconda3/envs/quantum_env/lib/python3.9/site-packages (from myQLM) (0.0.5)\n",
      "Requirement already satisfied: networkx in /Users/alimokh/opt/miniconda3/envs/quantum_env/lib/python3.9/site-packages (from myqlm-contrib>=1.7.1->myQLM) (3.1)\n",
      "Requirement already satisfied: numpy in /Users/alimokh/opt/miniconda3/envs/quantum_env/lib/python3.9/site-packages (from myqlm-fermion>=1.0.0->myQLM) (1.24.3)\n",
      "Requirement already satisfied: bitstring in /Users/alimokh/opt/miniconda3/envs/quantum_env/lib/python3.9/site-packages (from myqlm-fermion>=1.0.0->myQLM) (4.0.2)\n",
      "Requirement already satisfied: pytest in /Users/alimokh/opt/miniconda3/envs/quantum_env/lib/python3.9/site-packages (from myqlm-fermion>=1.0.0->myQLM) (7.3.1)\n",
      "Requirement already satisfied: anytree in /Users/alimokh/opt/miniconda3/envs/quantum_env/lib/python3.9/site-packages (from myqlm-fermion>=1.0.0->myQLM) (2.8.0)\n",
      "Requirement already satisfied: scipy in /Users/alimokh/opt/miniconda3/envs/quantum_env/lib/python3.9/site-packages (from myqlm-fermion>=1.0.0->myQLM) (1.10.1)\n",
      "Requirement already satisfied: tqdm in /Users/alimokh/opt/miniconda3/envs/quantum_env/lib/python3.9/site-packages (from myqlm-fermion>=1.0.0->myQLM) (4.65.0)\n",
      "Requirement already satisfied: thrift==0.16.0 in /Users/alimokh/opt/miniconda3/envs/quantum_env/lib/python3.9/site-packages (from qat-comm>=1.4.2->myQLM) (0.16.0)\n",
      "Requirement already satisfied: six>=1.7.2 in /Users/alimokh/opt/miniconda3/envs/quantum_env/lib/python3.9/site-packages (from thrift==0.16.0->qat-comm>=1.4.2->myQLM) (1.16.0)\n",
      "Requirement already satisfied: dill in /Users/alimokh/opt/miniconda3/envs/quantum_env/lib/python3.9/site-packages (from qat-core>=1.6.4->myQLM) (0.3.6)\n",
      "Requirement already satisfied: svgwrite in /Users/alimokh/opt/miniconda3/envs/quantum_env/lib/python3.9/site-packages (from qat-core>=1.6.4->myQLM) (1.4.3)\n",
      "Requirement already satisfied: Pillow in /Users/alimokh/opt/miniconda3/envs/quantum_env/lib/python3.9/site-packages (from qat-core>=1.6.4->myQLM) (9.5.0)\n",
      "Requirement already satisfied: matplotlib in /Users/alimokh/opt/miniconda3/envs/quantum_env/lib/python3.9/site-packages (from qat-core>=1.6.4->myQLM) (3.7.1)\n",
      "Requirement already satisfied: wand in /Users/alimokh/opt/miniconda3/envs/quantum_env/lib/python3.9/site-packages (from qat-core>=1.6.4->myQLM) (0.6.11)\n",
      "Requirement already satisfied: ply==3.11 in /Users/alimokh/opt/miniconda3/envs/quantum_env/lib/python3.9/site-packages (from qat-lang>=2.2.1->myQLM) (3.11)\n",
      "Requirement already satisfied: pyDOE in /Users/alimokh/opt/miniconda3/envs/quantum_env/lib/python3.9/site-packages (from qat-variational>=1.4.0->myQLM) (0.3.8)\n",
      "Requirement already satisfied: cycler>=0.10 in /Users/alimokh/opt/miniconda3/envs/quantum_env/lib/python3.9/site-packages (from matplotlib->qat-core>=1.6.4->myQLM) (0.11.0)\n",
      "Requirement already satisfied: packaging>=20.0 in /Users/alimokh/opt/miniconda3/envs/quantum_env/lib/python3.9/site-packages (from matplotlib->qat-core>=1.6.4->myQLM) (23.1)\n",
      "Requirement already satisfied: fonttools>=4.22.0 in /Users/alimokh/opt/miniconda3/envs/quantum_env/lib/python3.9/site-packages (from matplotlib->qat-core>=1.6.4->myQLM) (4.39.3)\n",
      "Requirement already satisfied: contourpy>=1.0.1 in /Users/alimokh/opt/miniconda3/envs/quantum_env/lib/python3.9/site-packages (from matplotlib->qat-core>=1.6.4->myQLM) (1.0.7)\n",
      "Requirement already satisfied: python-dateutil>=2.7 in /Users/alimokh/opt/miniconda3/envs/quantum_env/lib/python3.9/site-packages (from matplotlib->qat-core>=1.6.4->myQLM) (2.8.2)\n",
      "Requirement already satisfied: kiwisolver>=1.0.1 in /Users/alimokh/opt/miniconda3/envs/quantum_env/lib/python3.9/site-packages (from matplotlib->qat-core>=1.6.4->myQLM) (1.4.4)\n",
      "Requirement already satisfied: pyparsing>=2.3.1 in /Users/alimokh/opt/miniconda3/envs/quantum_env/lib/python3.9/site-packages (from matplotlib->qat-core>=1.6.4->myQLM) (3.0.9)\n",
      "Requirement already satisfied: importlib-resources>=3.2.0 in /Users/alimokh/opt/miniconda3/envs/quantum_env/lib/python3.9/site-packages (from matplotlib->qat-core>=1.6.4->myQLM) (5.12.0)\n",
      "Requirement already satisfied: pluggy<2.0,>=0.12 in /Users/alimokh/opt/miniconda3/envs/quantum_env/lib/python3.9/site-packages (from pytest->myqlm-fermion>=1.0.0->myQLM) (1.0.0)\n",
      "Requirement already satisfied: tomli>=1.0.0 in /Users/alimokh/opt/miniconda3/envs/quantum_env/lib/python3.9/site-packages (from pytest->myqlm-fermion>=1.0.0->myQLM) (2.0.1)\n",
      "Requirement already satisfied: exceptiongroup>=1.0.0rc8 in /Users/alimokh/opt/miniconda3/envs/quantum_env/lib/python3.9/site-packages (from pytest->myqlm-fermion>=1.0.0->myQLM) (1.1.1)\n",
      "Requirement already satisfied: iniconfig in /Users/alimokh/opt/miniconda3/envs/quantum_env/lib/python3.9/site-packages (from pytest->myqlm-fermion>=1.0.0->myQLM) (2.0.0)\n",
      "Requirement already satisfied: zipp>=3.1.0 in /Users/alimokh/opt/miniconda3/envs/quantum_env/lib/python3.9/site-packages (from importlib-resources>=3.2.0->matplotlib->qat-core>=1.6.4->myQLM) (3.15.0)\n",
      "Note: you may need to restart the kernel to use updated packages.\n"
     ]
    }
   ],
   "source": [
    "pip install myQLM"
   ]
  },
  {
   "cell_type": "code",
   "execution_count": 9,
   "metadata": {},
   "outputs": [
    {
     "ename": "ImportError",
     "evalue": "dlopen(/Users/alimokh/opt/miniconda3/envs/quantum_env/lib/python3.9/site-packages/qat/__init__.so, 0x0002): Library not loaded: @rpath/lib/libpython3.9.dylib\n  Referenced from: <E8C3CBC8-276E-3534-8DFE-16C5457CA465> /Users/alimokh/opt/miniconda3/envs/quantum_env/lib/python3.9/site-packages/qat/__init__.so\n  Reason: tried: '/Library/Frameworks/Python.framework/Versions/3.9/lib/libpython3.9.dylib' (no such file), '/System/Volumes/Preboot/Cryptexes/OS/Library/Frameworks/Python.framework/Versions/3.9/lib/libpython3.9.dylib' (no such file), '/opt/homebrew/opt/python@3.9/Frameworks/Python.framework/Versions/3.9/lib/libpython3.9.dylib' (no such file), '/System/Volumes/Preboot/Cryptexes/OS/opt/homebrew/opt/python@3.9/Frameworks/Python.framework/Versions/3.9/lib/libpython3.9.dylib' (no such file), '/usr/local/opt/python@3.9/Frameworks/Python.framework/Versions/3.9/lib/libpython3.9.dylib' (no such file), '/System/Volumes/Preboot/Cryptexes/OS/usr/local/opt/python@3.9/Frameworks/Python.framework/Versions/3.9/lib/libpython3.9.dylib' (no such file), '/Library/Frameworks/Python.framework/Versions/3.9/lib/libpython3.9.dylib' (no such file), '/System/Volumes/Preboot/Cryptexes/OS/Library/Frameworks/Python.framework/Versions/3.9/lib/libpython3.9.dylib' (no such file), '/opt/homebrew/opt/python@3.9/Frameworks/Python.framework/Versions/3.9/lib/libpython3.9.dylib' (no such file), '/System/Volumes/Preboot/Cryptexes/OS/opt/homebrew/opt/python@3.9/Frameworks/Python.framework/Versions/3.9/lib/libpython3.9.dylib' (no such file), '/usr/local/opt/python@3.9/Frameworks/Python.framework/Versions/3.9/lib/libpython3.9.dylib' (no such file), '/System/Volumes/Preboot/Cryptexes/OS/usr/local/opt/python@3.9/Frameworks/Python.framework/Versions/3.9/lib/libpython3.9.dylib' (no such file), '/Users/alimokh/opt/miniconda3/envs/quantum_env/bin/../lib/lib/libpython3.9.dylib' (no such file), '/Users/alimokh/opt/miniconda3/envs/quantum_env/bin/../lib/lib/libpython3.9.dylib' (no such file), '/System/Volumes/Preboot/Cryptexes/OS@rpath/lib/libpython3.9.dylib' (no such file), '/Library/Frameworks/Python.framework/Versions/3.9/lib/libpython3.9.dylib' (no such file), '/System/Volumes/Preboot/Cryptexes/OS/Library/Frameworks/Python.framework/Versions/3.9/lib/libpython3.9.dylib' (no such file), '/opt/homebrew/opt/python@3.9/Frameworks/Python.framework/Versions/3.9/lib/libpython3.9.dylib' (no such file), '/System/Volumes/Preboot/Cryptexes/OS/opt/homebrew/opt/python@3.9/Frameworks/Python.framework/Versions/3.9/lib/libpython3.9.dylib' (no such file), '/usr/local/opt/python@3.9/Frameworks/Python.framework/Versions/3.9/lib/libpython3.9.dylib' (no such file), '/System/Volumes/Preboot/Cryptexes/OS/usr/local/opt/python@3.9/Frameworks/Python.framework/Versions/3.9/lib/libpython3.9.dylib' (no such file), '/Library/Frameworks/Python.framework/Versions/3.9/lib/libpython3.9.dylib' (no such file), '/System/Volumes/Preboot/Cryptexes/OS/Library/Frameworks/Python.framework/Versions/3.9/lib/libpython3.9.dylib' (no such file), '/opt/homebrew/opt/python@3.9/Frameworks/Python.framework/Versions/3.9/lib/libpython3.9.dylib' (no such file), '/System/Volumes/Preboot/Cryptexes/OS/opt/homebrew/opt/python@3.9/Frameworks/Python.framework/Versions/3.9/lib/libpython3.9.dylib' (no such file), '/usr/local/opt/python@3.9/Frameworks/Python.framework/Versions/3.9/lib/libpython3.9.dylib' (no such file), '/System/Volumes/Preboot/Cryptexes/OS/usr/local/opt/python@3.9/Frameworks/Python.framework/Versions/3.9/lib/libpython3.9.dylib' (no such file), '/Users/alimokh/opt/miniconda3/envs/quantum_env/bin/../lib/lib/libpython3.9.dylib' (no such file), '/Users/alimokh/opt/miniconda3/envs/quantum_env/bin/../lib/lib/libpython3.9.dylib' (no such file), '/usr/local/lib/libpython3.9.dylib' (no such file), '/usr/lib/libpython3.9.dylib' (no such file, not in dyld cache)",
     "output_type": "error",
     "traceback": [
      "\u001b[0;31m---------------------------------------------------------------------------\u001b[0m",
      "\u001b[0;31mImportError\u001b[0m                               Traceback (most recent call last)",
      "Cell \u001b[0;32mIn[9], line 1\u001b[0m\n\u001b[0;32m----> 1\u001b[0m \u001b[39mfrom\u001b[39;00m \u001b[39mqat\u001b[39;00m\u001b[39m.\u001b[39;00m\u001b[39mlang\u001b[39;00m\u001b[39m.\u001b[39;00m\u001b[39mAQASM\u001b[39;00m \u001b[39mimport\u001b[39;00m Program, X, H, CNOT, SWAP\n",
      "\u001b[0;31mImportError\u001b[0m: dlopen(/Users/alimokh/opt/miniconda3/envs/quantum_env/lib/python3.9/site-packages/qat/__init__.so, 0x0002): Library not loaded: @rpath/lib/libpython3.9.dylib\n  Referenced from: <E8C3CBC8-276E-3534-8DFE-16C5457CA465> /Users/alimokh/opt/miniconda3/envs/quantum_env/lib/python3.9/site-packages/qat/__init__.so\n  Reason: tried: '/Library/Frameworks/Python.framework/Versions/3.9/lib/libpython3.9.dylib' (no such file), '/System/Volumes/Preboot/Cryptexes/OS/Library/Frameworks/Python.framework/Versions/3.9/lib/libpython3.9.dylib' (no such file), '/opt/homebrew/opt/python@3.9/Frameworks/Python.framework/Versions/3.9/lib/libpython3.9.dylib' (no such file), '/System/Volumes/Preboot/Cryptexes/OS/opt/homebrew/opt/python@3.9/Frameworks/Python.framework/Versions/3.9/lib/libpython3.9.dylib' (no such file), '/usr/local/opt/python@3.9/Frameworks/Python.framework/Versions/3.9/lib/libpython3.9.dylib' (no such file), '/System/Volumes/Preboot/Cryptexes/OS/usr/local/opt/python@3.9/Frameworks/Python.framework/Versions/3.9/lib/libpython3.9.dylib' (no such file), '/Library/Frameworks/Python.framework/Versions/3.9/lib/libpython3.9.dylib' (no such file), '/System/Volumes/Preboot/Cryptexes/OS/Library/Frameworks/Python.framework/Versions/3.9/lib/libpython3.9.dylib' (no such file), '/opt/homebrew/opt/python@3.9/Frameworks/Python.framework/Versions/3.9/lib/libpython3.9.dylib' (no such file), '/System/Volumes/Preboot/Cryptexes/OS/opt/homebrew/opt/python@3.9/Frameworks/Python.framework/Versions/3.9/lib/libpython3.9.dylib' (no such file), '/usr/local/opt/python@3.9/Frameworks/Python.framework/Versions/3.9/lib/libpython3.9.dylib' (no such file), '/System/Volumes/Preboot/Cryptexes/OS/usr/local/opt/python@3.9/Frameworks/Python.framework/Versions/3.9/lib/libpython3.9.dylib' (no such file), '/Users/alimokh/opt/miniconda3/envs/quantum_env/bin/../lib/lib/libpython3.9.dylib' (no such file), '/Users/alimokh/opt/miniconda3/envs/quantum_env/bin/../lib/lib/libpython3.9.dylib' (no such file), '/System/Volumes/Preboot/Cryptexes/OS@rpath/lib/libpython3.9.dylib' (no such file), '/Library/Frameworks/Python.framework/Versions/3.9/lib/libpython3.9.dylib' (no such file), '/System/Volumes/Preboot/Cryptexes/OS/Library/Frameworks/Python.framework/Versions/3.9/lib/libpython3.9.dylib' (no such file), '/opt/homebrew/opt/python@3.9/Frameworks/Python.framework/Versions/3.9/lib/libpython3.9.dylib' (no such file), '/System/Volumes/Preboot/Cryptexes/OS/opt/homebrew/opt/python@3.9/Frameworks/Python.framework/Versions/3.9/lib/libpython3.9.dylib' (no such file), '/usr/local/opt/python@3.9/Frameworks/Python.framework/Versions/3.9/lib/libpython3.9.dylib' (no such file), '/System/Volumes/Preboot/Cryptexes/OS/usr/local/opt/python@3.9/Frameworks/Python.framework/Versions/3.9/lib/libpython3.9.dylib' (no such file), '/Library/Frameworks/Python.framework/Versions/3.9/lib/libpython3.9.dylib' (no such file), '/System/Volumes/Preboot/Cryptexes/OS/Library/Frameworks/Python.framework/Versions/3.9/lib/libpython3.9.dylib' (no such file), '/opt/homebrew/opt/python@3.9/Frameworks/Python.framework/Versions/3.9/lib/libpython3.9.dylib' (no such file), '/System/Volumes/Preboot/Cryptexes/OS/opt/homebrew/opt/python@3.9/Frameworks/Python.framework/Versions/3.9/lib/libpython3.9.dylib' (no such file), '/usr/local/opt/python@3.9/Frameworks/Python.framework/Versions/3.9/lib/libpython3.9.dylib' (no such file), '/System/Volumes/Preboot/Cryptexes/OS/usr/local/opt/python@3.9/Frameworks/Python.framework/Versions/3.9/lib/libpython3.9.dylib' (no such file), '/Users/alimokh/opt/miniconda3/envs/quantum_env/bin/../lib/lib/libpython3.9.dylib' (no such file), '/Users/alimokh/opt/miniconda3/envs/quantum_env/bin/../lib/lib/libpython3.9.dylib' (no such file), '/usr/local/lib/libpython3.9.dylib' (no such file), '/usr/lib/libpython3.9.dylib' (no such file, not in dyld cache)"
     ]
    }
   ],
   "source": [
    "from qat.lang.AQASM import Program, X, H, CNOT, SWAP\n"
   ]
  },
  {
   "cell_type": "code",
   "execution_count": null,
   "metadata": {},
   "outputs": [],
   "source": []
  },
  {
   "cell_type": "code",
   "execution_count": null,
   "metadata": {},
   "outputs": [],
   "source": []
  }
 ],
 "metadata": {
  "kernelspec": {
   "display_name": "quantum_env",
   "language": "python",
   "name": "python3"
  },
  "language_info": {
   "codemirror_mode": {
    "name": "ipython",
    "version": 3
   },
   "file_extension": ".py",
   "mimetype": "text/x-python",
   "name": "python",
   "nbconvert_exporter": "python",
   "pygments_lexer": "ipython3",
   "version": "3.9.16"
  },
  "orig_nbformat": 4
 },
 "nbformat": 4,
 "nbformat_minor": 2
}
